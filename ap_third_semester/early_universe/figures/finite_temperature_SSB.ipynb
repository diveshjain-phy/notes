{
 "metadata": {
  "language_info": {
   "codemirror_mode": {
    "name": "ipython",
    "version": 3
   },
   "file_extension": ".py",
   "mimetype": "text/x-python",
   "name": "python",
   "nbconvert_exporter": "python",
   "pygments_lexer": "ipython3",
   "version": "3.8.6-final"
  },
  "orig_nbformat": 2,
  "kernelspec": {
   "name": "python3",
   "display_name": "Python 3"
  }
 },
 "nbformat": 4,
 "nbformat_minor": 2,
 "cells": [
  {
   "cell_type": "code",
   "execution_count": 1,
   "metadata": {},
   "outputs": [],
   "source": [
    "import numpy as np\n",
    "import matplotlib.pyplot as plt\n",
    "from ipywidgets import interact"
   ]
  },
  {
   "cell_type": "code",
   "execution_count": 2,
   "metadata": {},
   "outputs": [
    {
     "output_type": "display_data",
     "data": {
      "text/plain": "interactive(children=(FloatSlider(value=0.0, description='T', max=1.0, step=0.01), Output()), _dom_classes=('w…",
      "application/vnd.jupyter.widget-view+json": {
       "version_major": 2,
       "version_minor": 0,
       "model_id": "227bb193c0bf45c0bcbd0cfa1919b901"
      }
     },
     "metadata": {}
    },
    {
     "output_type": "execute_result",
     "data": {
      "text/plain": [
       "<function __main__.plot(T)>"
      ]
     },
     "metadata": {},
     "execution_count": 2
    }
   ],
   "source": [
    "min_phi = -2\n",
    "phi = np.linspace(-min_phi, min_phi)\n",
    "\n",
    "sigma_square = 1.5\n",
    "alpha = 1\n",
    "gamma = 1\n",
    "beta = 1\n",
    "lam = 1\n",
    "\n",
    "def plot(T):\n",
    "    t1 = lam / 4 * (phi **2 - sigma_square)**2\n",
    "    t2 = alpha * (phi * T )**2\n",
    "    t3 = gamma * np.abs(phi)**3 * T\n",
    "    t4 = beta * T**4\n",
    "    plt.plot(phi, t1 + t2 + t3 + t4)\n",
    "\n",
    "interact(plot, T =(0, 1, .01))"
   ]
  },
  {
   "cell_type": "code",
   "execution_count": null,
   "metadata": {},
   "outputs": [],
   "source": []
  }
 ]
}