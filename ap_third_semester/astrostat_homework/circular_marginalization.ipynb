{
 "metadata": {
  "language_info": {
   "codemirror_mode": {
    "name": "ipython",
    "version": 3
   },
   "file_extension": ".py",
   "mimetype": "text/x-python",
   "name": "python",
   "nbconvert_exporter": "python",
   "pygments_lexer": "ipython3",
   "version": "3.8.6-final"
  },
  "orig_nbformat": 2,
  "kernelspec": {
   "name": "python3",
   "display_name": "Python 3"
  }
 },
 "nbformat": 4,
 "nbformat_minor": 2,
 "cells": [
  {
   "cell_type": "code",
   "execution_count": 12,
   "metadata": {},
   "outputs": [],
   "source": [
    "\n",
    "from matplotlib import rc\n",
    "rc('font',**{'family':'serif','serif':['Palatino']})\n",
    "rc('text', usetex=True)\n",
    "rc('text.latex', preamble=r'''\\usepackage{amsmath}\n",
    "         \\usepackage{physics}\n",
    "         \\usepackage{siunitx}\n",
    "         ''')"
   ]
  },
  {
   "cell_type": "code",
   "execution_count": 1,
   "metadata": {},
   "outputs": [
    {
     "output_type": "display_data",
     "data": {
      "text/plain": "interactive(children=(FloatSlider(value=0.5, description='sigma_x', max=1.0, min=0.1), FloatSlider(value=0.5, …",
      "application/vnd.jupyter.widget-view+json": {
       "version_major": 2,
       "version_minor": 0,
       "model_id": "4e2ada4e7ae34d7abcc231d835760a18"
      }
     },
     "metadata": {}
    },
    {
     "output_type": "execute_result",
     "data": {
      "text/plain": [
       "<function __main__.plot_both(sigma_x, sigma_y, true_A, true_phi)>"
      ]
     },
     "metadata": {},
     "execution_count": 1
    }
   ],
   "source": [
    "theta = np.linspace(0, 2 * np.pi, num=200)\n",
    "r = np.linspace(0, 2 * np.pi, num=200)\n",
    "r, th = np.meshgrid(r, theta)\n",
    "\n",
    "from ipywidgets import interact\n",
    "\n",
    "def plot_both(sigma_x, sigma_y, true_A, true_phi):\n",
    "    B_1 = 1/(2 * np.pi) / sigma_x / sigma_y \n",
    "    F = (- 1/2 *\n",
    "            (    \n",
    "                np.cos(true_phi)**2 / sigma_x**2 +\n",
    "                np.sin(true_phi)**2 / sigma_y**2\n",
    "            )\n",
    "            +(    \n",
    "                np.cos(theta)**2 / sigma_x**2+\n",
    "                np.sin(theta)**2 / sigma_y**2\n",
    "            )**(-1) *\n",
    "            (    \n",
    "                np.cos(true_phi)**2 * np.cos(theta)**2 / sigma_x**4 +\n",
    "                np.sin(true_phi)**2 * np.sin(theta)**2 / sigma_y**4 +\n",
    "                2* np.sin(true_phi) * np.sin(theta) * np.cos(true_phi) * np.cos(theta) / sigma_y**2 / sigma_x**2\n",
    "            )\n",
    "    )\n",
    "\n",
    "    marginalized_posterior = B_1 * np.sqrt(np.pi)*(    \n",
    "            np.cos(theta)**2 / sigma_x**2+\n",
    "            np.sin(theta)**2 / sigma_y**2\n",
    "        )**(-1/2) + np.exp(true_A**2 * F)\n",
    "\n",
    "    r_x = np.ones_like(r) * true_A\n",
    "    th_x = np.ones_like(th) * true_phi\n",
    "    arg = - 1/2 * (\n",
    "        (r_x * np.cos(th_x) - r * np.cos(th))**2 / sigma_x**2+\n",
    "        (r_x * np.sin(th_x) - r * np.sin(th))**2 / sigma_y**2)\n",
    "    likelihood = B_1 * np.exp(arg)\n",
    "    fig, axs = plt.subplots(1, 3, subplot_kw=dict(projection='polar'), dpi=200)\n",
    "    axs[0].contourf(th, r, likelihood)\n",
    "    axs[1].plot(theta, marginalized_posterior)\n",
    "    axs[2].plot(theta, np.sum(likelihood, axis=1))\n",
    "    axs[0].set_title('Likelihood')\n",
    "    axs[1].set_title('Integral over $\\\\mathbb{R}$')\n",
    "    axs[2].set_title('Integral over $\\\\mathbb{R}^+$')\n",
    "    for ax in axs:\n",
    "        ax.xaxis.set_ticklabels([])\n",
    "        ax.yaxis.set_ticklabels([])\n",
    "    plt.tight_layout()\n",
    "\n",
    "interact(plot_both, \n",
    "    sigma_x=(0.1,1,.1),\n",
    "    sigma_y=(0.1,1,.1), \n",
    "    true_A=(0.1,4,.01),\n",
    "    true_phi=(0,2*np.pi,.05),\n",
    ")"
   ]
  },
  {
   "cell_type": "code",
   "execution_count": 16,
   "metadata": {},
   "outputs": [],
   "source": [
    "%matplotlib qt\n",
    "\n",
    "plot_both(1.2, 1.8, 2.5, 1)\n",
    "plt.savefig('marginalization.pdf')"
   ]
  },
  {
   "cell_type": "code",
   "execution_count": null,
   "metadata": {},
   "outputs": [],
   "source": []
  }
 ]
}