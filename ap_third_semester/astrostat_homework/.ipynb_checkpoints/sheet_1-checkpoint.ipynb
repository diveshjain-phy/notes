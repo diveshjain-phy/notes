{
 "cells": [
  {
   "cell_type": "code",
   "execution_count": 2,
   "metadata": {},
   "outputs": [
    {
     "data": {
      "text/markdown": [
       "# Problem 1\n",
       "\n",
       "Consider the coin tossing example, discussed in the first lecture. Simulate 1000 tosses of the coins, setting $H = 0.3$. Consider a uniform prior and update the posterior at each toss. Plot the resulting posterior after 1, 50,100, 300, 700, 1000 tosses. Repeat the simulated experiment by setting\n",
       "a Gaussian prior centered in $H = 0.5$, with standard deviation $\\sigma = 0.1$.\n",
       "Do both posteriors converge a similar distribution in the end? What does that mean? Which posterior converges faster and why?\n"
      ],
      "text/plain": [
       "<IPython.core.display.Markdown object>"
      ]
     },
     "metadata": {},
     "output_type": "display_data"
    }
   ],
   "source": [
    "%%markdown\n",
    "# Problem 1\n",
    "\n",
    "Consider the coin tossing example, discussed in the first lecture. Simulate 1000 tosses of the coins, setting $H = 0.3$. Consider a uniform prior and update the posterior at each toss. Plot the resulting posterior after 1, 50,100, 300, 700, 1000 tosses. Repeat the simulated experiment by setting\n",
    "a Gaussian prior centered in $H = 0.5$, with standard deviation $\\sigma = 0.1$.\n",
    "Do both posteriors converge a similar distribution in the end? What does that mean? Which posterior converges faster and why?"
   ]
  },
  {
   "cell_type": "code",
   "execution_count": 3,
   "metadata": {},
   "outputs": [],
   "source": [
    "import numpy as np\n",
    "import matplotlib.pyplot as plt\n",
    "from ipywidgets import interact\n",
    "\n",
    "np.random.seed(42)"
   ]
  },
  {
   "cell_type": "code",
   "execution_count": 4,
   "metadata": {},
   "outputs": [],
   "source": [
    "def simulate_heads(heads_probability: float, number_tosses: int = 1) -> int:\n",
    "    uniform = np.random.uniform(low=0., high=1., size=number_tosses)\n",
    "    return(np.sum(uniform < heads_probability))\n",
    "\n",
    "def binomial_distribution(heads_probability: float, number_heads: int, number_tosses: int)-> float:\n",
    "    return(heads_probability**number_heads * (1 - heads_probability) **(number_tosses - number_heads))"
   ]
  },
  {
   "cell_type": "code",
   "execution_count": 5,
   "metadata": {},
   "outputs": [],
   "source": [
    "H = .3\n",
    "N_max = 1000\n",
    "\n",
    "heads = []\n",
    "heads_running_total=0\n",
    "for n in range(N_max):\n",
    "    h = simulate_heads(H)\n",
    "    heads_running_total += h\n",
    "    heads.append(heads_running_total)"
   ]
  },
  {
   "cell_type": "code",
   "execution_count": 6,
   "metadata": {},
   "outputs": [
    {
     "data": {
      "application/vnd.jupyter.widget-view+json": {
       "model_id": "c9db3800f21d461ba20b17f1c07845ab",
       "version_major": 2,
       "version_minor": 0
      },
      "text/plain": [
       "interactive(children=(IntSlider(value=499, description='toss_number', max=999), Output()), _dom_classes=('widg…"
      ]
     },
     "metadata": {},
     "output_type": "display_data"
    },
    {
     "data": {
      "text/plain": [
       "<function __main__.plot(toss_number)>"
      ]
     },
     "execution_count": 6,
     "metadata": {},
     "output_type": "execute_result"
    }
   ],
   "source": [
    "H_samples = np.linspace(0, 1, num=1000)\n",
    "gaussian_prior = np.exp(- (H_samples - .5)**2 / 2 / 0.1**2)\n",
    "\n",
    "def plot(toss_number):\n",
    "    likelihood = binomial_distribution(H_samples, heads[toss_number], toss_number)\n",
    "    likelihood /= np.max(likelihood)\n",
    "    posterior_flat_prior = np.copy(likelihood)\n",
    "    posterior_gaussian_prior = gaussian_prior * likelihood\n",
    "    posterior_gaussian_prior /= np.max(posterior_gaussian_prior)\n",
    "    plt.plot(H_samples, posterior_flat_prior, label='Flat prior')\n",
    "    plt.plot(H_samples, posterior_gaussian_prior, label='Gaussian prior')\n",
    "    plt.axvline(H, c='black', label='True value')\n",
    "    plt.xlabel('Heads probability')\n",
    "    plt.legend()\n",
    "    \n",
    "\n",
    "interact(plot, toss_number=(0,N_max -1,1))"
   ]
  },
  {
   "cell_type": "code",
   "execution_count": 7,
   "metadata": {},
   "outputs": [
    {
     "data": {
      "text/markdown": [
       "Both posteriors converge to very similar distributions in the end;\n",
       "as we add more and more data the prior becomes less and less relevant,\n",
       "it is \"washed out\" by the data.\n",
       "\n",
       "In the early stages it seems that the narrower prior stays more narrow than the flat prior,\n",
       "while also being usually more wrong (since it was rather unrepresentative of the true value).\n",
       "Let us quantify this.\n"
      ],
      "text/plain": [
       "<IPython.core.display.Markdown object>"
      ]
     },
     "metadata": {},
     "output_type": "display_data"
    }
   ],
   "source": [
    "%%markdown\n",
    "Both posteriors converge to very similar distributions in the end;\n",
    "as we add more and more data the prior becomes less and less relevant,\n",
    "it is \"washed out\" by the data.\n",
    "\n",
    "In the early stages it seems that the narrower prior stays more narrow than the flat prior,\n",
    "while also being usually more wrong (since it was rather unrepresentative of the true value).\n",
    "Let us quantify this."
   ]
  },
  {
   "cell_type": "code",
   "execution_count": 8,
   "metadata": {
    "tags": []
   },
   "outputs": [],
   "source": [
    "from scipy.integrate import trapz\n",
    "\n",
    "def pdf_mean_std(x, pdf):\n",
    "    pdf_integral = trapz(y=pdf, x=x)\n",
    "    pdf /= pdf_integral\n",
    "    mean = trapz(y=pdf * x, x=x)\n",
    "    std = np.sqrt(trapz(y=pdf * (x-mean)**2, x=x))\n",
    "    return(mean, std)\n",
    "\n",
    "sigmas_flat = []\n",
    "sigmas_gaussian= []\n",
    "error_flat = []\n",
    "error_gaussian = []\n",
    "\n",
    "for toss_number in range(N_max):\n",
    "    likelihood = binomial_distribution(H_samples, heads[toss_number], toss_number)\n",
    "    likelihood /= np.max(likelihood)\n",
    "    posterior_flat_prior = np.copy(likelihood)\n",
    "    posterior_gaussian_prior = gaussian_prior * likelihood\n",
    "    posterior_gaussian_prior /= np.max(posterior_gaussian_prior)\n",
    "\n",
    "    mean_flat, std_flat = pdf_mean_std(H_samples, posterior_flat_prior)\n",
    "    mean_gaussian, std_gaussian = pdf_mean_std(H_samples, posterior_gaussian_prior)\n",
    "\n",
    "    sigmas_flat.append(std_flat)\n",
    "    sigmas_gaussian.append(std_gaussian)\n",
    "    error_flat.append((mean_flat - H) / std_flat)\n",
    "    error_gaussian.append((mean_gaussian - H) / std_gaussian)"
   ]
  },
  {
   "cell_type": "code",
   "execution_count": 9,
   "metadata": {},
   "outputs": [
    {
     "data": {
      "text/plain": [
       "Text(0, 0.5, 'Standard deviation')"
      ]
     },
     "execution_count": 9,
     "metadata": {},
     "output_type": "execute_result"
    },
    {
     "data": {
      "image/png": "[encoded data removed]",
      "text/plain": [
       "<Figure size 432x288 with 1 Axes>"
      ]
     },
     "metadata": {
      "needs_background": "light"
     },
     "output_type": "display_data"
    }
   ],
   "source": [
    "plt.loglog(sigmas_flat, label='Flat prior standard deviation')\n",
    "plt.loglog(sigmas_gaussian, label='Gaussian prior standard deviation')\n",
    "plt.legend()\n",
    "plt.xlabel('Throw number')\n",
    "plt.ylabel('Standard deviation')"
   ]
  },
  {
   "cell_type": "code",
   "execution_count": 10,
   "metadata": {},
   "outputs": [
    {
     "data": {
      "text/plain": [
       "Text(0, 0.5, 'Relative error')"
      ]
     },
     "execution_count": 10,
     "metadata": {},
     "output_type": "execute_result"
    },
    {
     "data": {
      "image/png": "[encoded data removed]",
      "text/plain": [
       "<Figure size 432x288 with 1 Axes>"
      ]
     },
     "metadata": {
      "needs_background": "light"
     },
     "output_type": "display_data"
    }
   ],
   "source": [
    "plt.plot(error_flat, label='Flat prior error')\n",
    "plt.plot(error_gaussian, label='Gaussian prior error')\n",
    "plt.legend()\n",
    "plt.xlabel('Throw number')\n",
    "plt.ylabel('Relative error')"
   ]
  },
  {
   "cell_type": "code",
   "execution_count": 11,
   "metadata": {},
   "outputs": [
    {
     "data": {
      "text/markdown": [
       "# Problem 2\n",
       "Politician $A$ makes a statement about some issue you knew nothing about before. Let’s call such proposition $S$ and assume your starting prior on $S$ is uniform with 0.5 probability of $S$ being either true or false. Update your probability of $S$ being true, knowing that you trust Mr. A to tell the truth with probability $\\text{prob}(A_T ) = 4/5$. At this point Mr $B$ - another politician - declares that he agrees with Mr $A$ on $S$ being true. You trust Mr. $B$ much less, and believe that the probability of him to lie is $\\text{prob}(B_F ) = 3/4$.\n",
       "What is your final degree of belief in proposition S?\n"
      ],
      "text/plain": [
       "<IPython.core.display.Markdown object>"
      ]
     },
     "metadata": {},
     "output_type": "display_data"
    }
   ],
   "source": [
    "%%markdown\n",
    "# Problem 2\n",
    "Politician $A$ makes a statement about some issue you knew nothing about before. Let’s call such proposition $S$ and assume your starting prior on $S$ is uniform with 0.5 probability of $S$ being either true or false. Update your probability of $S$ being true, knowing that you trust Mr. A to tell the truth with probability $\\text{prob}(A_T ) = 4/5$. At this point Mr $B$ - another politician - declares that he agrees with Mr $A$ on $S$ being true. You trust Mr. $B$ much less, and believe that the probability of him to lie is $\\text{prob}(B_F ) = 3/4$.\n",
    "What is your final degree of belief in proposition S?"
   ]
  },
  {
   "cell_type": "code",
   "execution_count": 12,
   "metadata": {},
   "outputs": [
    {
     "name": "stdout",
     "output_type": "stream",
     "text": [
      "The posterior probability after A said S is 0.8\n"
     ]
    }
   ],
   "source": [
    "P_A_T = 4./5. \n",
    "# probability that A tells the truth\n",
    "\n",
    "likelihood = P_A_T\n",
    "# probability that A said S, given that S is true\n",
    "\n",
    "prior = .5 \n",
    "# prior probability that S is true\n",
    "\n",
    "evidence = likelihood * prior + (1-likelihood) * (1- prior)\n",
    "# probability that A said S, independently of S\n",
    "# written as P(A | S) P(S) + P(A | not S) P(not S)\n",
    "# and P(A | not S) is the probability that A said something false\n",
    "\n",
    "posterior = likelihood * prior / evidence\n",
    "# Bayes' theorem\n",
    "\n",
    "print(f'The posterior probability after A said S is {posterior}')"
   ]
  },
  {
   "cell_type": "code",
   "execution_count": 13,
   "metadata": {},
   "outputs": [
    {
     "name": "stdout",
     "output_type": "stream",
     "text": [
      "The posterior probability after both B and A said S is 0.57\n"
     ]
    }
   ],
   "source": [
    "prior_2 = posterior\n",
    "\n",
    "P_B_T = 1./4.\n",
    "likelihood_2 = P_B_T\n",
    "# probability that B said S, given that S is true\n",
    "\n",
    "evidence_2 = likelihood_2 * prior_2 + (1-likelihood_2) * (1 - prior_2)\n",
    "# probability that B said S, independently of S\n",
    "# written as P(B | S) P(S) + P(B | not S) P(not S)\n",
    "# and P(B | not S) is the probability that B said something false\n",
    "\n",
    "posterior_2 = likelihood_2 * prior_2 / evidence_2\n",
    "# Bayes' theorem\n",
    "\n",
    "print(f'The posterior probability after both B and A said S is {posterior_2:.2f}')"
   ]
  },
  {
   "cell_type": "code",
   "execution_count": 14,
   "metadata": {},
   "outputs": [
    {
     "data": {
      "text/markdown": [
       "\n",
       "We can use an alternative approach, using an equation derived from considering \n",
       "Bayes' theorem \n",
       "$$\n",
       "\\mathbb{P}(A | B) = \\frac{\\mathbb{P}(B | A) \\mathbb{P}(A)}{\\mathbb{P}(B)}\n",
       "$$\n",
       "and Bayes' theorem applied to the proposition $\\text{not } A$: \n",
       "$$\n",
       "\\mathbb{P}(\\text{not } A| B) = \\frac{\\mathbb{P}(B | \\text{not } A) \\mathbb{P}(\\text{not } A)}{\\mathbb{P}(B)}\n",
       "\\,.\n",
       "$$\n",
       "\n",
       "Dividing one equation by the other we find that the $\\mathbb{P}(B)$ term simplifies, so we have:\n",
       "$$\n",
       "\\underbrace{\\frac{\\mathbb{P}(A|B)}{\\mathbb{P}(\\text{not } A | B)} }_{\\text{posterior}}\n",
       "=\n",
       "\\underbrace{\\frac{\\mathbb{P}(B|A)}{\\mathbb{P}(B | \\text{not } A)}}_{BF}\n",
       "\\underbrace{\\frac{\\mathbb{P}(A)}{\\mathbb{P}(\\text{not } A)}}_{\\text{prior}}\n",
       "\\,.\n",
       "$$\n",
       "\n",
       "If we interpret $A$ as a statement, while $B$ represents data, we can readily identify the prior and posterior: they are expressed in terms of odds,\n",
       "ratios of the probability of an even to the probability of its negation.\n",
       "\n",
       "It is convenient to work in terms of the logarithm of these quantities: these are the _log-odds_,\n",
       "which can take any value from $- \\infty$ to $\\infty$,\n",
       "with the value 0 representing a flat distribution: $1/2$ probability for both the statement and its counter.\n",
       "\n",
       "Then, we can find the posterior log-odds by adding the logarithm of the Bayes Factor to the prior log-odds.\n",
       "\n",
       "We can then see that the Bayes Factor quantifies evidence in an understandable, additive way.\n",
       "If we used base-2 logarithms we could talk of _bits_ of evidence in an information-theoretic sense.\n"
      ],
      "text/plain": [
       "<IPython.core.display.Markdown object>"
      ]
     },
     "metadata": {},
     "output_type": "display_data"
    }
   ],
   "source": [
    "%%markdown\n",
    "\n",
    "We can use an alternative approach, using an equation derived from considering \n",
    "Bayes' theorem \n",
    "$$\n",
    "\\mathbb{P}(A | B) = \\frac{\\mathbb{P}(B | A) \\mathbb{P}(A)}{\\mathbb{P}(B)}\n",
    "$$\n",
    "and Bayes' theorem applied to the proposition $\\text{not } A$: \n",
    "$$\n",
    "\\mathbb{P}(\\text{not } A| B) = \\frac{\\mathbb{P}(B | \\text{not } A) \\mathbb{P}(\\text{not } A)}{\\mathbb{P}(B)}\n",
    "\\,.\n",
    "$$\n",
    "\n",
    "Dividing one equation by the other we find that the $\\mathbb{P}(B)$ term simplifies, so we have:\n",
    "$$\n",
    "\\underbrace{\\frac{\\mathbb{P}(A|B)}{\\mathbb{P}(\\text{not } A | B)} }_{\\text{posterior}}\n",
    "=\n",
    "\\underbrace{\\frac{\\mathbb{P}(B|A)}{\\mathbb{P}(B | \\text{not } A)}}_{BF}\n",
    "\\underbrace{\\frac{\\mathbb{P}(A)}{\\mathbb{P}(\\text{not } A)}}_{\\text{prior}}\n",
    "\\,.\n",
    "$$\n",
    "\n",
    "If we interpret $A$ as a statement, while $B$ represents data, we can readily identify the prior and posterior: they are expressed in terms of odds,\n",
    "ratios of the probability of an even to the probability of its negation.\n",
    "\n",
    "It is convenient to work in terms of the logarithm of these quantities: these are the _log-odds_,\n",
    "which can take any value from $- \\infty$ to $\\infty$,\n",
    "with the value 0 representing a flat distribution: $1/2$ probability for both the statement and its counter.\n",
    "\n",
    "Then, we can find the posterior log-odds by adding the logarithm of the Bayes Factor to the prior log-odds.\n",
    "\n",
    "We can then see that the Bayes Factor quantifies evidence in an understandable, additive way.\n",
    "If we used base-2 logarithms we could talk of _bits_ of evidence in an information-theoretic sense."
   ]
  },
  {
   "cell_type": "code",
   "execution_count": 15,
   "metadata": {},
   "outputs": [
    {
     "name": "stdout",
     "output_type": "stream",
     "text": [
      "0.5714285714285714\n"
     ]
    }
   ],
   "source": [
    "# Alternative approach, using log-odds\n",
    "\n",
    "def log_odds(p):\n",
    "    return(np.log(p) - np.log(1-p))\n",
    "\n",
    "def probability(lo):\n",
    "    return(np.exp(lo) / (1 + np.exp(lo)))\n",
    "\n",
    "log_prior = log_odds(prior)\n",
    "\n",
    "log_bayes_factor_1 = log_odds(P_A_T)\n",
    "log_bayes_factor_2 = log_odds(P_B_T)\n",
    "# a special case, due to the fact that A and B\n",
    "# lie or tell the truth independently of the topic\n",
    "# in general the Bayes factor would be\n",
    "# BF = P(A | S) / P(A | not S)\n",
    "\n",
    "log_posterior = log_bayes_factor_1 + log_bayes_factor_2 + log_prior\n",
    "posterior_alternative = probability(log_posterior)\n",
    "print(posterior_alternative)"
   ]
  },
  {
   "cell_type": "code",
   "execution_count": 16,
   "metadata": {},
   "outputs": [
    {
     "data": {
      "text/markdown": [
       "# Problem 3\n",
       "You are tested for a dangerous disease named ”Bacillum Bayesianum”\n",
       "(BB). You test positive to BB. You know that the general incidence of BB in the population is 1%. Moreover, you know that your test has a false negative probability of 5% (false negative: you have BB but the test scores negative), and a false positive rate also of 5% (false positive: you do not have BB, but the test scores positive). What is the probability that you have actually contracted BB?\n"
      ],
      "text/plain": [
       "<IPython.core.display.Markdown object>"
      ]
     },
     "metadata": {},
     "output_type": "display_data"
    }
   ],
   "source": [
    "%%markdown\n",
    "# Problem 3\n",
    "You are tested for a dangerous disease named ”Bacillum Bayesianum”\n",
    "(BB). You test positive to BB. You know that the general incidence of BB in the population is 1%. Moreover, you know that your test has a false negative probability of 5% (false negative: you have BB but the test scores negative), and a false positive rate also of 5% (false positive: you do not have BB, but the test scores positive). What is the probability that you have actually contracted BB?"
   ]
  },
  {
   "cell_type": "code",
   "execution_count": 37,
   "metadata": {},
   "outputs": [
    {
     "name": "stdout",
     "output_type": "stream",
     "text": [
      "The probability of having BB after having tested positive is 0.16\n"
     ]
    }
   ],
   "source": [
    "prior_BB = .01\n",
    "false_negative = .05\n",
    "false_positive = .05\n",
    "\n",
    "true_positive = 1 - false_positive\n",
    "true_negative = 1 - false_negative\n",
    "\n",
    "log_prior_BB = log_odds(prior_BB)\n",
    "log_bayes_factor_BB = np.log(true_positive / false_positive)\n",
    "log_bayes_factor_BB_negative_test = np.log(false_negative / true_negative)\n",
    "# always referring to the statement \n",
    "# \"you have BB\"\n",
    "\n",
    "log_posterior_BB = log_bayes_factor_BB + log_prior_BB\n",
    "posterior_BB = probability(log_posterior_BB)\n",
    "print(f'The probability of having BB after having tested positive is {posterior_BB:.2f}')"
   ]
  },
  {
   "cell_type": "code",
   "execution_count": 38,
   "metadata": {},
   "outputs": [
    {
     "name": "stdout",
     "output_type": "stream",
     "text": [
      "Log-prior = -4.60\n",
      "Log-BF = 2.94\n",
      "Log-posterior = -1.65\n",
      "Log-BF of a negative test: -4.60\n"
     ]
    }
   ],
   "source": [
    "print(f'Log-prior = {log_prior_BB:.2f}')\n",
    "print(f'Log-BF = {log_bayes_factor_BB:.2f}')\n",
    "print(f'Log-posterior = {log_posterior_BB:.2f}')\n",
    "\n",
    "print(f'Log-BF of a negative test: {log_bayes_factor_BB_negative_test:.2f}')"
   ]
  },
  {
   "cell_type": "code",
   "execution_count": 39,
   "metadata": {},
   "outputs": [
    {
     "data": {
      "text/markdown": [
       "This formalism allows us to see more easily how much more evidence would\n",
       "sway our belief: the log-odds of the prior are about $-4.5$, while the\n",
       "log-BF for each positive test gives us about 3 units of evidence to the\n",
       "fact that we have the disease.\n",
       "\n",
       "Since the false negative and false positive probabilities are equal, \n",
       "a negative test sways our belief by the exact opposite amount as a positive test.\n",
       "If we test negative once and then positive once, our belief will be\n",
       "equal to the prior. \n"
      ],
      "text/plain": [
       "<IPython.core.display.Markdown object>"
      ]
     },
     "metadata": {},
     "output_type": "display_data"
    }
   ],
   "source": [
    "%%markdown\n",
    "This formalism allows us to see more easily how much more evidence would\n",
    "sway our belief: the log-odds of the prior are about $-4.5$, while the\n",
    "log-BF for each positive test gives us about 3 units of evidence to the\n",
    "fact that we have the disease.\n",
    "\n",
    "Since the false negative and false positive probabilities are equal, \n",
    "a negative test sways our belief by the exact opposite amount as a positive test.\n",
    "If we test negative once and then positive once, our belief will be\n",
    "equal to the prior. "
   ]
  },
  {
   "cell_type": "code",
   "execution_count": null,
   "metadata": {},
   "outputs": [],
   "source": []
  }
 ],
 "metadata": {
  "kernelspec": {
   "display_name": "Python 3.7.7 64-bit ('anaconda3': virtualenv)",
   "language": "python",
   "name": "python37764bitanaconda3virtualenv9d9029479fa1495786fc78d8ad2ea7c7"
  },
  "language_info": {
   "codemirror_mode": {
    "name": "ipython",
    "version": 3
   },
   "file_extension": ".py",
   "mimetype": "text/x-python",
   "name": "python",
   "nbconvert_exporter": "python",
   "pygments_lexer": "ipython3",
   "version": "3.7.8"
  }
 },
 "nbformat": 4,
 "nbformat_minor": 2
}
