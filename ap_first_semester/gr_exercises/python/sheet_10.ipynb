{
 "cells": [
  {
   "cell_type": "code",
   "execution_count": 1,
   "metadata": {},
   "outputs": [],
   "source": [
    "import numpy as np\n",
    "import matplotlib.pyplot as plt\n",
    "import ipywidgets as ipw\n"
   ]
  },
  {
   "cell_type": "markdown",
   "metadata": {},
   "source": [
    "# 10.1"
   ]
  },
  {
   "cell_type": "markdown",
   "metadata": {},
   "source": [
    "### 10.1.6"
   ]
  },
  {
   "cell_type": "code",
   "execution_count": 14,
   "metadata": {},
   "outputs": [
    {
     "data": {
      "application/vnd.jupyter.widget-view+json": {
       "model_id": "83ff9c2681584c5390ade06b2d7d68e0"
      }
     },
     "metadata": {},
     "output_type": "display_data"
    },
    {
     "data": {
      "text/plain": [
       "<function __main__.plot>"
      ]
     },
     "execution_count": 14,
     "metadata": {},
     "output_type": "execute_result"
    }
   ],
   "source": [
    "# outer boundary\n",
    "# G = 1\n",
    "# Y = a/M\n",
    "\n",
    "thetas = np.arange(0,np.pi/2,0.01)\n",
    "\n",
    "@np.vectorize\n",
    "def omega(theta,a,M):\n",
    "    Y = float(a/M)\n",
    "    return Y**2/(a*(1 + np.sqrt(1 - (Y*np.cos(theta))**2) + (Y*np.sin(theta))**2))\n",
    "\n",
    "@np.vectorize\n",
    "def a_omega(theta,Y):\n",
    "    return Y**2/(1 + np.sqrt(1 - (Y*np.cos(theta))**2) + (Y*np.sin(theta))**2)\n",
    "    \n",
    "\n",
    "def plot(Y):\n",
    "    plt.figure()\n",
    "    plt.plot(180*thetas/np.pi,a_omega(thetas,Y))\n",
    "    plt.xlabel('$\\Theta$')\n",
    "    plt.ylabel('a$\\Omega$')\n",
    "    plt.title('Outer ergosphere surface')\n",
    "    plt.show()\n",
    "\n",
    "ipw.interact(plot, Y=(0,1,0.01))"
   ]
  },
  {
   "cell_type": "markdown",
   "metadata": {},
   "source": [
    "### 10.1.7"
   ]
  },
  {
   "cell_type": "code",
   "execution_count": 15,
   "metadata": {},
   "outputs": [
    {
     "data": {
      "image/png": "[encoded data removed]",
      "text/plain": [
       "<Figure size 432x288 with 1 Axes>"
      ]
     },
     "metadata": {
      "needs_background": "light"
     },
     "output_type": "display_data"
    }
   ],
   "source": [
    "# equatorial section of extreme Kerr ergosphere\n",
    "\n",
    "# R = r/GM\n",
    "\n",
    "@np.vectorize\n",
    "def omega1(R):\n",
    "    return 1 - R**2/(R**2 - R + 2)\n",
    "\n",
    "@np.vectorize\n",
    "def omega2(R):\n",
    "    return 1/(R + 1)\n",
    "\n",
    "Rs = np.arange(1,2,0.01)\n",
    "\n",
    "plt.figure()\n",
    "plt.plot(Rs,omega1(Rs))\n",
    "plt.plot(Rs,omega2(Rs))\n",
    "plt.xlabel('R')\n",
    "plt.ylabel('$\\Omega$')\n",
    "plt.title('Range of permitted angular velocities')\n",
    "plt.show()\n"
   ]
  },
  {
   "cell_type": "code",
   "execution_count": 86,
   "metadata": {},
   "outputs": [
    {
     "data": {
      "application/vnd.jupyter.widget-view+json": {
       "model_id": "80ff23eb886f40d0a5d8a3d8215b139b"
      }
     },
     "metadata": {},
     "output_type": "display_data"
    },
    {
     "data": {
      "text/plain": [
       "<function __main__.plot>"
      ]
     },
     "execution_count": 86,
     "metadata": {},
     "output_type": "execute_result"
    }
   ],
   "source": [
    "# trying polar plot\n",
    "\n",
    "# GM = 1\n",
    "\n",
    "@np.vectorize\n",
    "def omega1(a,r,t):\n",
    "    if r < 1 + np.sqrt(1 - a**2) or r > 1 + np.sqrt(1 - (a*np.cos(t))**2):\n",
    "        return -1\n",
    "    rho_square = r**2 + (a*np.cos(t))**2\n",
    "    Delta = r**2 - 2*r + a**2\n",
    "    return (2*a*r - rho_square*np.sqrt(Delta)/np.sin(t))/(rho_square*(r**2 + a**2) + 2*r*(a*np.sin(t))**2)\n",
    "\n",
    "@np.vectorize\n",
    "def omega2(a,r,t):\n",
    "    if r < 1 + np.sqrt(1 - a**2) or r > 1 + np.sqrt(1 - (a*np.cos(t))**2):\n",
    "        return -1\n",
    "    rho_square = r**2 + (a*np.cos(t))**2\n",
    "    Delta = r**2 - 2*r + a**2\n",
    "    return (2*a*r + rho_square*np.sqrt(Delta)/np.sin(t))/(rho_square*(r**2 + a**2) + 2*r*(a*np.sin(t))**2)\n",
    "\n",
    "thetas = np.arange(0.01,np.pi/2,0.01)\n",
    "rs = np.arange(1,2,0.01)\n",
    "values = np.zeros((len(rs),len(thetas)))\n",
    "thetass,rss = np.meshgrid(thetas,rs)\n",
    "\n",
    "\n",
    "%matplotlib notebook\n",
    "\n",
    "# -k = log10(1-a)\n",
    "\n",
    "def plot(k):\n",
    "    a = 1 - 10**(-k)\n",
    "    for i,t in enumerate(thetas):\n",
    "        for j,r in enumerate(rs):\n",
    "            values[j,i] = omega2(a,r,t)\n",
    "    fig, ax = plt.subplots(subplot_kw=dict(projection='polar'))\n",
    "    ax.set_thetamin(0)\n",
    "    ax.set_thetamax(90)\n",
    "    ax.set_rlim([0.98,2.02])\n",
    "    ax.contourf(thetass, rss, values, levels = np.arange(0,0.7,0.01))\n",
    "    ax.plot(thetas,(1 + np.sqrt(1 - a**2))*np.ones(len(thetas)))\n",
    "    ax.plot(thetas,1 + np.sqrt(1 - (a*np.cos(thetas))**2))\n",
    "    ax.set_title('a = %.3f' %a)\n",
    "    \n",
    "    \n",
    "    \n",
    "# ipw.interact(plot, a = (0,1,0.01))\n",
    "ipw.interact(plot, k = (0,4,0.1))"
   ]
  },
  {
   "cell_type": "code",
   "execution_count": 68,
   "metadata": {},
   "outputs": [
    {
     "data": {
      "text/plain": [
       "array(-17.63945541)"
      ]
     },
     "execution_count": 68,
     "metadata": {},
     "output_type": "execute_result"
    }
   ],
   "source": [
    "omega1(0.9,1.9,0.01)"
   ]
  },
  {
   "cell_type": "code",
   "execution_count": null,
   "metadata": {},
   "outputs": [],
   "source": []
  }
 ],
 "metadata": {
  "kernelspec": {
   "display_name": "Python 3",
   "language": "python",
   "name": "python3"
  },
  "language_info": {
   "codemirror_mode": {
    "name": "ipython",
    "version": 3
   },
   "file_extension": ".py",
   "mimetype": "text/x-python",
   "name": "python",
   "nbconvert_exporter": "python",
   "pygments_lexer": "ipython3",
   "version": "3.7.5"
  }
 },
 "nbformat": 4,
 "nbformat_minor": 2
}
