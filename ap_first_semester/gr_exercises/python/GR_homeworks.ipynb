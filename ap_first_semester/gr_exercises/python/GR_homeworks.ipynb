{
 "cells": [
  {
   "cell_type": "markdown",
   "metadata": {},
   "source": [
    "# General Relativity"
   ]
  },
  {
   "cell_type": "code",
   "execution_count": 7,
   "metadata": {},
   "outputs": [],
   "source": [
    "import numpy as np\n",
    "import matplotlib.pyplot as plt\n",
    "from functools import partial\n",
    "import ipywidgets\n",
    "\n",
    "def gamma(b):\n",
    "    return 1/np.sqrt(1-b**2)"
   ]
  },
  {
   "cell_type": "markdown",
   "metadata": {},
   "source": [
    "### Hw1.3\n",
    "\n",
    "How does an isotropically emitting gamma source look like from the point of view of a moving observer?"
   ]
  },
  {
   "cell_type": "code",
   "execution_count": 8,
   "metadata": {},
   "outputs": [],
   "source": [
    "@np.vectorize\n",
    "def theta(theta_prime,beta):\n",
    "    \"\"\"\n",
    "    Returns the angle of the radiation,\n",
    "    emitted by the moving observer O' at an angle theta_prime,\n",
    "    as seen by the stationary observer O,\n",
    "    if the relative speed between O and O' is beta*c.\n",
    "    \"\"\"\n",
    "    \n",
    "    s = np.sin(theta_prime)/(gamma(beta)*(1 + np.cos(theta_prime)*beta))\n",
    "    c = (np.cos(theta_prime) + beta)/(1 + np.cos(theta_prime)*beta)\n",
    "    if s >= 0:\n",
    "        return np.arccos(c)\n",
    "    else:\n",
    "        return 2*np.pi - np.arccos(c)"
   ]
  },
  {
   "cell_type": "code",
   "execution_count": 3,
   "metadata": {},
   "outputs": [
    {
     "data": {
      "image/png": "[encoded data removed]",
      "text/plain": [
       "<Figure size 432x288 with 1 Axes>"
      ]
     },
     "metadata": {
      "needs_background": "light"
     },
     "output_type": "display_data"
    }
   ],
   "source": [
    "# varying beta\n",
    "\n",
    "theta_prime = np.pi/2\n",
    "\n",
    "\n",
    "betas = np.arange(0,1,0.01)\n",
    "\n",
    "thetas = [theta(theta_prime=theta_prime,beta=b) for b in betas]\n",
    "thetas = np.array(thetas)\n",
    "\n",
    "plt.figure()\n",
    "plt.plot(betas,thetas)\n",
    "plt.xlabel('beta')\n",
    "plt.ylabel('theta')\n",
    "plt.show()\n"
   ]
  },
  {
   "cell_type": "code",
   "execution_count": 4,
   "metadata": {},
   "outputs": [
    {
     "data": {
      "image/png": "[encoded data removed]",
      "text/plain": [
       "<Figure size 432x288 with 1 Axes>"
      ]
     },
     "metadata": {
      "needs_background": "light"
     },
     "output_type": "display_data"
    }
   ],
   "source": [
    "# varying theta_prime\n",
    "\n",
    "beta = 0.9\n",
    "\n",
    "\n",
    "theta_primes = np.arange(0,2*np.pi,2*np.pi/100)\n",
    "\n",
    "thetas = [theta(theta_prime=t,beta=beta) for t in theta_primes]\n",
    "thetas = np.array(thetas)\n",
    "\n",
    "plt.figure()\n",
    "plt.plot(theta_primes*180/np.pi,thetas*180/np.pi)\n",
    "plt.xlabel('theta\\'')\n",
    "plt.ylabel('theta')\n",
    "plt.show()"
   ]
  },
  {
   "cell_type": "code",
   "execution_count": 50,
   "metadata": {},
   "outputs": [
    {
     "data": {
      "application/vnd.jupyter.widget-view+json": {
       "model_id": "974b0c79084e4dd29efd8603663663f9",
       "version_major": 2,
       "version_minor": 0
      },
      "text/plain": [
       "interactive(children=(FloatSlider(value=0.49, description='beta', max=0.99, step=0.01), Output()), _dom_classe…"
      ]
     },
     "metadata": {},
     "output_type": "display_data"
    },
    {
     "data": {
      "text/plain": [
       "<function __main__.plot_rays(beta)>"
      ]
     },
     "execution_count": 50,
     "metadata": {},
     "output_type": "execute_result"
    }
   ],
   "source": [
    "# multiple rays\n",
    "\n",
    "n_rays = 16\n",
    "\n",
    "theta_primes = np.arange(0,2*np.pi,2*np.pi/n_rays)\n",
    "\n",
    "def plot_rays(beta):\n",
    "    \n",
    "    thetas = [theta(theta_prime=t,beta=beta) for t in theta_primes]\n",
    "    thetas = np.array(thetas)\n",
    "\n",
    "    plt.figure()\n",
    "    for t in thetas:\n",
    "        plt.plot([0,np.cos(t)],[0,np.sin(t)])\n",
    "    plt.show()\n",
    "    \n",
    "ipywidgets.interact(plot_rays, beta = (0,0.99,0.01))"
   ]
  },
  {
   "cell_type": "code",
   "execution_count": 51,
   "metadata": {},
   "outputs": [
    {
     "data": {
      "application/vnd.jupyter.widget-view+json": {
       "model_id": "04d9e6b6659c4405b03f567087de9565",
       "version_major": 2,
       "version_minor": 0
      },
      "text/plain": [
       "interactive(children=(FloatSlider(value=0.49, description='beta', max=0.99, step=0.01), Output()), _dom_classe…"
      ]
     },
     "metadata": {},
     "output_type": "display_data"
    },
    {
     "data": {
      "text/plain": [
       "<function __main__.plot_intensity(beta)>"
      ]
     },
     "execution_count": 51,
     "metadata": {},
     "output_type": "execute_result"
    }
   ],
   "source": [
    "# Intensity\n",
    "\n",
    "n_rays = 16\n",
    "amp_factor = 1000\n",
    "\n",
    "theta_primes = np.arange(0,np.pi,np.pi/(amp_factor*n_rays))\n",
    "theta_scan = np.arange(0,np.pi+np.pi/n_rays,np.pi/n_rays)\n",
    "\n",
    "\n",
    "def plot_intensity(beta):\n",
    "    \n",
    "    thetas = [theta(theta_prime=t,beta=beta) for t in theta_primes]\n",
    "    thetas = np.array(thetas)\n",
    "    \n",
    "    intensity = np.zeros_like(theta_scan)\n",
    "    \n",
    "    j = 0\n",
    "    last_i = 0\n",
    "    for i,t in enumerate(thetas):\n",
    "        if j >= len(intensity):\n",
    "                print('error')\n",
    "                break\n",
    "        if t > theta_scan[j]:\n",
    "            #print(i)\n",
    "            intensity[j] = i - last_i\n",
    "            last_i = i\n",
    "            j += 1\n",
    "    intensity[-1] = n_rays*amp_factor - last_i\n",
    "    2\n",
    "    intensity /= 1.*n_rays*amp_factor\n",
    "\n",
    "    plt.figure()\n",
    "    plt.plot(theta_scan[1:]*180/np.pi,intensity[1:])\n",
    "    plt.xlabel('theta')\n",
    "    plt.ylabel('normalized intensity')\n",
    "    plt.title('angular spectrum')\n",
    "    plt.show()\n",
    "\n",
    "#plot_intensity(0.3)\n",
    "    \n",
    "ipywidgets.interact(plot_intensity, beta = (0,0.99,0.01))"
   ]
  },
  {
   "cell_type": "code",
   "execution_count": 7,
   "metadata": {},
   "outputs": [
    {
     "data": {
      "application/vnd.jupyter.widget-view+json": {
       "model_id": "8940e23dc6af4b918b7da98497dfbfe2",
       "version_major": 2,
       "version_minor": 0
      },
      "text/plain": [
       "interactive(children=(FloatSlider(value=0.49, description='beta', max=0.99, step=0.01), Output()), _dom_classe…"
      ]
     },
     "metadata": {},
     "output_type": "display_data"
    },
    {
     "data": {
      "text/plain": [
       "<function __main__.plot_intensity(beta)>"
      ]
     },
     "execution_count": 7,
     "metadata": {},
     "output_type": "execute_result"
    }
   ],
   "source": [
    "# accounting for 3-dimensionality\n",
    "\n",
    "n_rays = 16\n",
    "amp_factor = 1000\n",
    "\n",
    "theta_primes = np.arange(0,np.pi,np.pi/(amp_factor*n_rays))\n",
    "theta_scan = np.arange(0,np.pi+np.pi/n_rays,np.pi/n_rays)\n",
    "\n",
    "\n",
    "def plot_intensity(beta):\n",
    "    \n",
    "    thetas = [theta(theta_prime=t,beta=beta) for t in theta_primes]\n",
    "    thetas = np.array(thetas)\n",
    "    \n",
    "    intensity = np.zeros_like(theta_scan)\n",
    "    \n",
    "    j = 0\n",
    "    for i,t in enumerate(thetas):\n",
    "        if j >= len(intensity):\n",
    "                print('error')\n",
    "                break\n",
    "        intensity[j] += (0.00001 + np.sin(theta_primes[i]))/(0.0001 + np.sin(theta_scan[j]))\n",
    "        if t > theta_scan[j]:\n",
    "            #print(i)\n",
    "            j += 1\n",
    "    \n",
    "    s = sum(intensity)\n",
    "    print(intensity,s)\n",
    "    intensity /= 1.*s\n",
    "\n",
    "    plt.figure()\n",
    "    plt.semilogy(theta_scan[1:]*180/np.pi,intensity[1:])\n",
    "    plt.xlabel('theta')\n",
    "    plt.ylabel('normalized intensity')\n",
    "    plt.title('angular spectrum')\n",
    "    plt.show()\n",
    "\n",
    "# plot_intensity(0.)\n",
    "    \n",
    "ipywidgets.interact(plot_intensity, beta = (0,0.99,0.01))"
   ]
  },
  {
   "cell_type": "code",
   "execution_count": 8,
   "metadata": {},
   "outputs": [
    {
     "data": {
      "image/png": "[encoded data removed]",
      "text/plain": [
       "<Figure size 432x288 with 1 Axes>"
      ]
     },
     "metadata": {
      "needs_background": "light"
     },
     "output_type": "display_data"
    }
   ],
   "source": [
    "# just to clarify how (arc)cos and (arc)sin work\n",
    "\n",
    "theta_primes = np.arange(0,2*np.pi,2*np.pi/100)\n",
    "\n",
    "plt.figure()\n",
    "plt.plot(theta_primes,np.arcsin(np.sin(theta_primes)), label = 'sin')\n",
    "plt.plot(theta_primes,np.arccos(np.cos(theta_primes)), label = 'cos')\n",
    "plt.legend()\n",
    "plt.show()\n"
   ]
  },
  {
   "cell_type": "code",
   "execution_count": 14,
   "metadata": {},
   "outputs": [],
   "source": [
    "# Analytical solution to the intensity problem:\n",
    "# assume in its own frame the source emits energy isotropically:\n",
    "# what is the angular distribution seen by the observer?\n",
    "# It will be cylindrically symmetric of course: what is the distribution wrt theta?\n",
    "\n",
    "import sympy as sp\n",
    "sp.init_printing()\n",
    "\n",
    "v = sp.symbols('v', real=True)\n",
    "gamma_sp = 1 / sp.sqrt(1-v**2)\n",
    "\n",
    "theta_prime = sp.symbols('theta_prime', real=True)\n",
    "\n",
    "# angle in the observer frame O\n",
    "theta_orig = sp.atan(1/gamma_sp/(1/sp.tan(theta_prime) + v/sp.sin(theta_prime)))\n",
    "\n",
    "# distribution means the derivative of theta in O wrt theta in O'\n",
    "distribution = sp.diff(theta_orig, theta_prime)\n",
    "# taking account of the size of the spherical portion.\n",
    "# the absolute value is needed because of some issues with the arccosine and arccsine\n",
    "# which are difficult to deal with in sympy\n",
    "distribution_3d = sp.Abs(distribution * sp.sin(theta_orig) / sp.sin(theta_prime))"
   ]
  },
  {
   "cell_type": "code",
   "execution_count": 19,
   "metadata": {},
   "outputs": [
    {
     "data": {
      "application/vnd.jupyter.widget-view+json": {
       "model_id": "23e22f8cec7c4377a090297a451f9f14",
       "version_major": 2,
       "version_minor": 0
      },
      "text/plain": [
       "interactive(children=(FloatSlider(value=-1.0, description='log_velocity', max=0.0, min=-2.0, step=0.05), Outpu…"
      ]
     },
     "metadata": {},
     "output_type": "display_data"
    },
    {
     "data": {
      "text/plain": [
       "<function __main__.log_plot(log_velocity)>"
      ]
     },
     "execution_count": 19,
     "metadata": {},
     "output_type": "execute_result"
    }
   ],
   "source": [
    "def plot_distribution(relative_velocity):\n",
    "    \n",
    "    # take the generic distributions and insert the actual velocity\n",
    "    new_distribution = distribution.subs(v, relative_velocity)\n",
    "    new_distribution_3d = distribution_3d.subs(v, relative_velocity)\n",
    "    \n",
    "    x = sp.symbols('x')\n",
    "    \n",
    "    # we make functions from the sympy relations, the inverse is\n",
    "    # inserted because we want to plot d (theta_prime) / d (theta) \n",
    "    f = sp.lambdify(x, 1/new_distribution.subs(theta_prime, x), 'numpy')\n",
    "    f_3d = sp.lambdify(x, 1/new_distribution_3d.subs(theta_prime, x), 'numpy')\n",
    "    \n",
    "    theta_primes = np.linspace(1e-10, np.pi-1e-10)\n",
    "    thetas = theta(theta_primes, relative_velocity)\n",
    "    plt.ylabel(\"dtheta_prime/dtheta\")\n",
    "    plt.xlabel(\"theta\")\n",
    "    plt.plot(thetas, f(theta_primes), label=\"2d\")\n",
    "    plt.plot(thetas, f_3d(theta_primes), label=\"3d\")\n",
    "    plt.legend()\n",
    "\n",
    "def log_plot(log_velocity):\n",
    "    plot_distribution(1-10**log_velocity)\n",
    "\n",
    "#ipywidgets.interact(plot_distribution, relative_velocity=(0,0.99,0.01))\n",
    "ipywidgets.interact(log_plot, log_velocity=(-2,0,0.05))"
   ]
  },
  {
   "cell_type": "code",
   "execution_count": null,
   "metadata": {},
   "outputs": [],
   "source": []
  }
 ],
 "metadata": {
  "kernelspec": {
   "display_name": "Python 3",
   "language": "python",
   "name": "python3"
  },
  "language_info": {
   "codemirror_mode": {
    "name": "ipython",
    "version": 3
   },
   "file_extension": ".py",
   "mimetype": "text/x-python",
   "name": "python",
   "nbconvert_exporter": "python",
   "pygments_lexer": "ipython3",
   "version": "3.7.4"
  }
 },
 "nbformat": 4,
 "nbformat_minor": 2
}
