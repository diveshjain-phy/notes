{
 "cells": [
  {
   "cell_type": "markdown",
   "metadata": {},
   "source": [
    "# General Relativity"
   ]
  },
  {
   "cell_type": "code",
   "execution_count": 1,
   "metadata": {},
   "outputs": [],
   "source": [
    "import numpy as np\n",
    "import matplotlib.pyplot as plt\n",
    "from functools import partial\n",
    "import ipywidgets\n",
    "\n",
    "def gamma(b):\n",
    "    return 1/np.sqrt(1-b**2)"
   ]
  },
  {
   "cell_type": "markdown",
   "metadata": {},
   "source": [
    "### Hw1.3\n",
    "\n",
    "How does an isotropically emitting gamma source look like from the point of view of a moving observer?"
   ]
  },
  {
   "cell_type": "code",
   "execution_count": 2,
   "metadata": {},
   "outputs": [],
   "source": [
    "def theta(theta_prime,beta):\n",
    "    s = np.sin(theta_prime)/(gamma(beta)*(1 + np.cos(theta_prime)*beta))\n",
    "    c = (np.cos(theta_prime) + beta)/(1 + np.cos(theta_prime)*beta)\n",
    "    if s >= 0:\n",
    "        return np.arccos(c)\n",
    "    else:\n",
    "        return 2*np.pi - np.arccos(c)"
   ]
  },
  {
   "cell_type": "code",
   "execution_count": 3,
   "metadata": {},
   "outputs": [
    {
     "data": {
      "image/png": "[encoded data removed]",
      "text/plain": [
       "<Figure size 432x288 with 1 Axes>"
      ]
     },
     "metadata": {
      "needs_background": "light"
     },
     "output_type": "display_data"
    }
   ],
   "source": [
    "# varying beta\n",
    "\n",
    "theta_prime = np.pi/2\n",
    "\n",
    "\n",
    "betas = np.arange(0,1,0.01)\n",
    "\n",
    "thetas = [theta(theta_prime=theta_prime,beta=b) for b in betas]\n",
    "thetas = np.array(thetas)\n",
    "\n",
    "plt.figure()\n",
    "plt.plot(betas,thetas)\n",
    "plt.xlabel('beta')\n",
    "plt.ylabel('theta')\n",
    "plt.show()\n"
   ]
  },
  {
   "cell_type": "code",
   "execution_count": 4,
   "metadata": {},
   "outputs": [
    {
     "data": {
      "image/png": "[encoded data removed]",
      "text/plain": [
       "<Figure size 432x288 with 1 Axes>"
      ]
     },
     "metadata": {
      "needs_background": "light"
     },
     "output_type": "display_data"
    }
   ],
   "source": [
    "# varying theta_prime\n",
    "\n",
    "beta = 0.9\n",
    "\n",
    "\n",
    "theta_primes = np.arange(0,2*np.pi,2*np.pi/100)\n",
    "\n",
    "thetas = [theta(theta_prime=t,beta=beta) for t in theta_primes]\n",
    "thetas = np.array(thetas)\n",
    "\n",
    "plt.figure()\n",
    "plt.plot(theta_primes*180/np.pi,thetas*180/np.pi)\n",
    "plt.xlabel('theta\\'')\n",
    "plt.ylabel('theta')\n",
    "plt.show()"
   ]
  },
  {
   "cell_type": "code",
   "execution_count": 5,
   "metadata": {},
   "outputs": [
    {
     "data": {
      "application/vnd.jupyter.widget-view+json": {
       "model_id": "cc86ffeb36f04652a6d084e594e07382",
       "version_major": 2,
       "version_minor": 0
      },
      "text/plain": [
       "interactive(children=(FloatSlider(value=0.49, description='beta', max=0.99, step=0.01), Output()), _dom_classe…"
      ]
     },
     "metadata": {},
     "output_type": "display_data"
    },
    {
     "data": {
      "text/plain": [
       "<function __main__.plot_rays(beta)>"
      ]
     },
     "execution_count": 5,
     "metadata": {},
     "output_type": "execute_result"
    }
   ],
   "source": [
    "# multiple rays\n",
    "\n",
    "n_rays = 16\n",
    "\n",
    "theta_primes = np.arange(0,2*np.pi,2*np.pi/n_rays)\n",
    "\n",
    "def plot_rays(beta):\n",
    "    \n",
    "    thetas = [theta(theta_prime=t,beta=beta) for t in theta_primes]\n",
    "    thetas = np.array(thetas)\n",
    "\n",
    "    plt.figure()\n",
    "    for t in thetas:\n",
    "        plt.plot([0,np.cos(t)],[0,np.sin(t)])\n",
    "    plt.show()\n",
    "    \n",
    "ipywidgets.interact(plot_rays, beta = (0,0.99,0.01))"
   ]
  },
  {
   "cell_type": "code",
   "execution_count": 6,
   "metadata": {},
   "outputs": [
    {
     "data": {
      "application/vnd.jupyter.widget-view+json": {
       "model_id": "8bbb539f530c47be8644f29fbe895dab"
      }
     },
     "metadata": {},
     "output_type": "display_data"
    },
    {
     "data": {
      "text/plain": [
       "<function __main__.plot_intensity>"
      ]
     },
     "execution_count": 6,
     "metadata": {},
     "output_type": "execute_result"
    }
   ],
   "source": [
    "# Intensity\n",
    "\n",
    "n_rays = 16\n",
    "amp_factor = 1000\n",
    "\n",
    "theta_primes = np.arange(0,np.pi,np.pi/(amp_factor*n_rays))\n",
    "theta_scan = np.arange(0,np.pi+np.pi/n_rays,np.pi/n_rays)\n",
    "\n",
    "\n",
    "def plot_intensity(beta):\n",
    "    \n",
    "    thetas = [theta(theta_prime=t,beta=beta) for t in theta_primes]\n",
    "    thetas = np.array(thetas)\n",
    "    \n",
    "    intensity = np.zeros_like(theta_scan)\n",
    "    \n",
    "    j = 0\n",
    "    last_i = 0\n",
    "    for i,t in enumerate(thetas):\n",
    "        if j >= len(intensity):\n",
    "                print('error')\n",
    "                break\n",
    "        if t > theta_scan[j]:\n",
    "            #print(i)\n",
    "            intensity[j] = i - last_i\n",
    "            last_i = i\n",
    "            j += 1\n",
    "    intensity[-1] = n_rays*amp_factor - last_i\n",
    "    \n",
    "    intensity /= 1.*n_rays*amp_factor\n",
    "\n",
    "    plt.figure()\n",
    "    plt.plot(theta_scan[1:]*180/np.pi,intensity[1:])\n",
    "    plt.xlabel('theta')\n",
    "    plt.ylabel('normalized intensity')\n",
    "    plt.title('angular spectrum')\n",
    "    plt.show()\n",
    "\n",
    "#plot_intensity(0.3)\n",
    "    \n",
    "ipywidgets.interact(plot_intensity, beta = (0,0.99,0.01))"
   ]
  },
  {
   "cell_type": "code",
   "execution_count": 17,
   "metadata": {},
   "outputs": [
    {
     "name": "stdout",
     "output_type": "stream",
     "text": [
      "[2.16349540e+00 5.01905529e+02 7.57405795e+02 8.48150605e+02\n",
      " 8.95935946e+02 9.27323719e+02 9.54009674e+02 9.74119200e+02\n",
      " 9.93526279e+02 1.01292986e+03 1.03292835e+03 1.05880377e+03\n",
      " 1.09221817e+03 1.13944806e+03 1.22886852e+03 1.48241102e+03\n",
      " 9.77722079e+05] 992624.2264881638\n"
     ]
    },
    {
     "data": {
      "image/png": "[encoded data removed]",
      "text/plain": [
       "<Figure size 432x288 with 1 Axes>"
      ]
     },
     "metadata": {
      "needs_background": "light"
     },
     "output_type": "display_data"
    }
   ],
   "source": [
    "# accounting for 3-dimensionality\n",
    "\n",
    "n_rays = 16\n",
    "amp_factor = 1000\n",
    "\n",
    "theta_primes = np.arange(0,np.pi,np.pi/(amp_factor*n_rays))\n",
    "theta_scan = np.arange(0,np.pi+np.pi/n_rays,np.pi/n_rays)\n",
    "\n",
    "\n",
    "def plot_intensity(beta):\n",
    "    \n",
    "    thetas = [theta(theta_prime=t,beta=beta) for t in theta_primes]\n",
    "    thetas = np.array(thetas)\n",
    "    \n",
    "    intensity = np.zeros_like(theta_scan)\n",
    "    \n",
    "    j = 0\n",
    "    for i,t in enumerate(thetas):\n",
    "        if j >= len(intensity):\n",
    "                print('error')\n",
    "                break\n",
    "        intensity[j] += (0.00001 + np.sin(theta_primes[i]))/(0.0001 + np.sin(theta_scan[j]))\n",
    "        if t > theta_scan[j]:\n",
    "            #print(i)\n",
    "            j += 1\n",
    "    \n",
    "    s = sum(intensity)\n",
    "    print(intensity,s)\n",
    "    intensity /= 1.*s\n",
    "\n",
    "    plt.figure()\n",
    "    plt.plot(theta_scan[1:]*180/np.pi,intensity[1:])\n",
    "    plt.xlabel('theta')\n",
    "    plt.ylabel('normalized intensity')\n",
    "    plt.title('angular spectrum')\n",
    "    plt.show()\n",
    "\n",
    "plot_intensity(0.)\n",
    "    \n",
    "#ipywidgets.interact(plot_intensity, beta = (0,0.99,0.01))"
   ]
  },
  {
   "cell_type": "code",
   "execution_count": 45,
   "metadata": {},
   "outputs": [
    {
     "data": {
      "image/png": "[encoded data removed]",
      "text/plain": [
       "<Figure size 432x288 with 1 Axes>"
      ]
     },
     "metadata": {
      "needs_background": "light"
     },
     "output_type": "display_data"
    }
   ],
   "source": [
    "# just to clarify how (arc)cos and (arc)sin work\n",
    "\n",
    "theta_primes = np.arange(0,2*np.pi,2*np.pi/100)\n",
    "\n",
    "plt.figure()\n",
    "plt.plot(theta_primes,np.arcsin(np.sin(theta_primes)), label = 'sin')\n",
    "plt.plot(theta_primes,np.arccos(np.cos(theta_primes)), label = 'cos')\n",
    "plt.legend()\n",
    "plt.show()\n"
   ]
  },
  {
   "cell_type": "code",
   "execution_count": null,
   "metadata": {},
   "outputs": [],
   "source": []
  }
 ],
 "metadata": {
  "kernelspec": {
   "display_name": "Python 3",
   "language": "python",
   "name": "python3"
  },
  "language_info": {
   "codemirror_mode": {
    "name": "ipython",
    "version": 3
   },
   "file_extension": ".py",
   "mimetype": "text/x-python",
   "name": "python",
   "nbconvert_exporter": "python",
   "pygments_lexer": "ipython3",
   "version": "3.7.4"
  }
 },
 "nbformat": 4,
 "nbformat_minor": 2
}
