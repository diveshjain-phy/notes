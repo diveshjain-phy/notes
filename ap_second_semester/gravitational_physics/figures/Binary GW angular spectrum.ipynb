{
 "cells": [
  {
   "cell_type": "code",
   "execution_count": 1,
   "metadata": {},
   "outputs": [],
   "source": [
    "import numpy as np\n",
    "import matplotlib.pyplot as plt\n",
    "from astropy.visualization import astropy_mpl_style\n",
    "plt.style.use(astropy_mpl_style)\n",
    "from ipywidgets import interact\n",
    "import ipywidgets as widgets\n",
    "\n",
    "thetas = np.linspace(0, 2 * np.pi, num=1000)"
   ]
  },
  {
   "cell_type": "code",
   "execution_count": 2,
   "metadata": {},
   "outputs": [
    {
     "output_type": "display_data",
     "data": {
      "text/plain": "interactive(children=(IntSlider(value=0, description='tpercent'), Output()), _dom_classes=('widget-interact',)…",
      "application/vnd.jupyter.widget-view+json": {
       "version_major": 2,
       "version_minor": 0,
       "model_id": "e01ce8facb56491aa7d54b16ee388931"
      }
     },
     "metadata": {}
    },
    {
     "output_type": "display_data",
     "data": {
      "text/plain": "HBox(children=(Play(value=0, description='Press play', interval=500), IntSlider(value=0, description='tpercent…",
      "application/vnd.jupyter.widget-view+json": {
       "version_major": 2,
       "version_minor": 0,
       "model_id": "ffd2295503b14392840748509631ae98"
      }
     },
     "metadata": {}
    }
   ],
   "source": [
    "def p(tpercent):\n",
    "    t = tpercent/100\n",
    "    ax = plt.subplot(projection='polar')\n",
    "    ax.set_theta_zero_location(\"N\")\n",
    "\n",
    "    plus_polarization_amplitude = (1 + np.cos(thetas)**2)/2 * np.sin(2*np.pi*t)\n",
    "    cross_polarization_amplitude = np.cos(thetas)* np.cos(2*np.pi*t)\n",
    "\n",
    "    ax.plot(thetas, ((plus_polarization_amplitude)**2 + (cross_polarization_amplitude)**2) * abs(np.sin(thetas))) \n",
    "    plt.show(block=False)\n",
    "\n",
    "play = widgets.Play(\n",
    "    value=0,\n",
    "    min=0,\n",
    "    max=100,\n",
    "    step=1,\n",
    "    interval=500,\n",
    "    description=\"Press play\",\n",
    "    disabled=False\n",
    ")\n",
    "slider = widgets.IntSlider()\n",
    "interact(p, tpercent=slider)\n",
    "widgets.jslink((play, 'value'), (slider, 'value'))\n",
    "widgets.HBox([play, slider])\n",
    "\n"
   ]
  },
  {
   "cell_type": "code",
   "execution_count": null,
   "metadata": {},
   "outputs": [],
   "source": []
  }
 ],
 "metadata": {
  "kernelspec": {
   "display_name": "Python 3",
   "language": "python",
   "name": "python3"
  },
  "language_info": {
   "codemirror_mode": {
    "name": "ipython",
    "version": 3
   },
   "file_extension": ".py",
   "mimetype": "text/x-python",
   "name": "python",
   "nbconvert_exporter": "python",
   "pygments_lexer": "ipython3",
   "version": "3.8.6-final"
  }
 },
 "nbformat": 4,
 "nbformat_minor": 4
}